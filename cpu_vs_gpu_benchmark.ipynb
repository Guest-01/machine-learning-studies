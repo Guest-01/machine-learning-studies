{
 "cells": [
  {
   "cell_type": "markdown",
   "id": "4532bce5",
   "metadata": {},
   "source": [
    "# CPU vs GPU benchmark\n",
    "\n",
    "CPU를 사용할 때와 GPU를 사용할 때 모델의 학습 속도를 비교한다."
   ]
  },
  {
   "cell_type": "markdown",
   "id": "6a36b403",
   "metadata": {},
   "source": [
    "## 아래 코드는 현재 GPU를 확인한다\n",
    "빈칸이면 GPU가 없는 것."
   ]
  },
  {
   "cell_type": "code",
   "execution_count": 1,
   "id": "643a8478",
   "metadata": {
    "scrolled": false
   },
   "outputs": [
    {
     "data": {
      "text/plain": [
       "[]"
      ]
     },
     "execution_count": 1,
     "metadata": {},
     "output_type": "execute_result"
    }
   ],
   "source": [
    "import tensorflow as tf\n",
    "tf.config.list_physical_devices('GPU')"
   ]
  },
  {
   "cell_type": "markdown",
   "id": "8096a7c8",
   "metadata": {},
   "source": [
    "### ※ 참고\n",
    "\n",
    "`Device(CPU/GPU)`는 텐서를 할당할때부터 사용된다. 따라서 학습데이터와 모델을 정의하는 과정부터 CPU/GPU별로 따로 실행해야한다.\n",
    "\n",
    "그래서 **함수**로 만들어놓고 두번 호출하도록 했다."
   ]
  },
  {
   "cell_type": "markdown",
   "id": "f98b13eb",
   "metadata": {},
   "source": [
    "## 데이터를 로드하고 전처리"
   ]
  },
  {
   "cell_type": "code",
   "execution_count": 2,
   "id": "1b40ae11",
   "metadata": {},
   "outputs": [],
   "source": [
    "def prepare_data():\n",
    "    (X_train, y_train), (_, _) = tf.keras.datasets.cifar10.load_data()\n",
    "\n",
    "    X_train = X_train.astype('float32') / 255.  # 0~1 사이 값으로 정규화\n",
    "    \n",
    "    return X_train, y_train"
   ]
  },
  {
   "cell_type": "markdown",
   "id": "a0f7ce66",
   "metadata": {},
   "source": [
    "## 일반 MLP와 CNN 모델 만들기"
   ]
  },
  {
   "cell_type": "code",
   "execution_count": 3,
   "id": "95003d09",
   "metadata": {
    "scrolled": false
   },
   "outputs": [],
   "source": [
    "from tensorflow.keras.models import Sequential\n",
    "from tensorflow.keras.layers import Dense, Flatten, Conv2D, MaxPooling2D\n",
    "\n",
    "def build_models():\n",
    "    MLP = Sequential([\n",
    "        Flatten(input_shape=(32, 32, 3)),\n",
    "        Dense(256, activation='relu'),\n",
    "        Dense(64, activation='relu'),\n",
    "        Dense(10, activation='softmax')\n",
    "    ], name='MLP')\n",
    "\n",
    "    CNN = Sequential([\n",
    "        Conv2D(32, kernel_size=(3, 3), activation=\"relu\", input_shape=(32, 32, 3)),\n",
    "        MaxPooling2D(pool_size=(2, 2)),\n",
    "        Conv2D(64, kernel_size=(3, 3), activation=\"relu\"),\n",
    "        MaxPooling2D(pool_size=(2, 2)),\n",
    "        Flatten(),\n",
    "        Dense(10, activation=\"softmax\"),\n",
    "    ], name='CNN')\n",
    "    \n",
    "    return MLP, CNN"
   ]
  },
  {
   "cell_type": "markdown",
   "id": "b846b49d",
   "metadata": {},
   "source": [
    "## CPU와 GPU에서 각각 훈련해보기"
   ]
  },
  {
   "cell_type": "code",
   "execution_count": 4,
   "id": "e4b19bc5",
   "metadata": {},
   "outputs": [
    {
     "name": "stdout",
     "output_type": "stream",
     "text": [
      "* Starting MLP fit...\n",
      "Epoch 1/3\n",
      "1563/1563 [==============================] - 4s 2ms/step - loss: 1.8862 - accuracy: 0.3184\n",
      "Epoch 2/3\n",
      "1563/1563 [==============================] - 4s 2ms/step - loss: 1.7082 - accuracy: 0.3899\n",
      "Epoch 3/3\n",
      "1563/1563 [==============================] - 4s 2ms/step - loss: 1.6301 - accuracy: 0.4180\n",
      "* Starting CNN fit...\n",
      "Epoch 1/3\n",
      "1563/1563 [==============================] - 14s 9ms/step - loss: 1.4164 - accuracy: 0.4960\n",
      "Epoch 2/3\n",
      "1563/1563 [==============================] - 13s 9ms/step - loss: 1.0910 - accuracy: 0.6215\n",
      "Epoch 3/3\n",
      "1563/1563 [==============================] - 13s 9ms/step - loss: 0.9781 - accuracy: 0.6640\n",
      "\n",
      "Wall time: 53.2 s\n"
     ]
    }
   ],
   "source": [
    "%%time\n",
    "with tf.device('/CPU:0'):\n",
    "    X_train, y_train = prepare_data()\n",
    "    MLP, CNN = build_models()\n",
    "    # y = [0] ~ [9] 그러므로, sparse_categorical_crossentropy 사용.\n",
    "    MLP.compile(loss=\"sparse_categorical_crossentropy\", optimizer=\"adam\", metrics=[\"accuracy\"])\n",
    "    CNN.compile(loss=\"sparse_categorical_crossentropy\", optimizer=\"adam\", metrics=[\"accuracy\"])\n",
    "    print(\"* Starting MLP fit...\")\n",
    "    MLP.fit(X_train, y_train, epochs=3)\n",
    "    print(\"* Starting CNN fit...\")\n",
    "    CNN.fit(X_train, y_train, epochs=3)\n",
    "    print()"
   ]
  },
  {
   "cell_type": "code",
   "execution_count": 5,
   "id": "3e0cb425",
   "metadata": {},
   "outputs": [
    {
     "name": "stdout",
     "output_type": "stream",
     "text": [
      "No GPU. Skip.\n",
      "Wall time: 1 ms\n"
     ]
    }
   ],
   "source": [
    "%%time\n",
    "if tf.config.list_physical_devices(\"GPU\"):\n",
    "    with tf.device('/GPU:0'):\n",
    "        X_train, y_train = prepare_data()\n",
    "        MLP, CNN = build_models()\n",
    "        # y = [0] ~ [9] 그러므로, sparse_categorical_crossentropy 사용.\n",
    "        MLP.compile(loss=\"sparse_categorical_crossentropy\", optimizer=\"adam\", metrics=[\"accuracy\"])\n",
    "        CNN.compile(loss=\"sparse_categorical_crossentropy\", optimizer=\"adam\", metrics=[\"accuracy\"])\n",
    "        print(\"* Starting MLP fit...\")\n",
    "        MLP.fit(X_train, y_train, epochs=3)\n",
    "        print(\"* Starting CNN fit...\")\n",
    "        CNN.fit(X_train, y_train, epochs=3)\n",
    "        print()\n",
    "else:\n",
    "    print(\"No GPU. Skip.\")"
   ]
  }
 ],
 "metadata": {
  "kernelspec": {
   "display_name": "Python 3",
   "language": "python",
   "name": "python3"
  },
  "language_info": {
   "codemirror_mode": {
    "name": "ipython",
    "version": 3
   },
   "file_extension": ".py",
   "mimetype": "text/x-python",
   "name": "python",
   "nbconvert_exporter": "python",
   "pygments_lexer": "ipython3",
   "version": "3.9.5"
  }
 },
 "nbformat": 4,
 "nbformat_minor": 5
}
